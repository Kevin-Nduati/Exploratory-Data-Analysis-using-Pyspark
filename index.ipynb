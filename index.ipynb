{
 "cells": [
  {
   "cell_type": "code",
   "execution_count": 20,
   "metadata": {},
   "outputs": [],
   "source": [
    "import os\n",
    "import sys\n",
    "import pandas as pd\n",
    "import numpy as np\n",
    "import matplotlib.pyplot as plt\n",
    "import matplotlib.ticker as mtick\n",
    "import matplotlib\n",
    "from mpl_toolkits.mplot3d import Axes3D\n",
    "import math\n",
    "# from Ipython.core.interactiveshell import InteractiveShell\n",
    "from datetime import *\n",
    "import statistics as stats\n",
    "%matplotlib inline"
   ]
  },
  {
   "cell_type": "code",
   "execution_count": 21,
   "metadata": {},
   "outputs": [
    {
     "name": "stderr",
     "output_type": "stream",
     "text": [
      "                                                                                \r"
     ]
    }
   ],
   "source": [
    "import pyspark\n",
    "from pyspark.sql import Row, DataFrame, SparkSession, SQLContext, functions\n",
    "from pyspark.sql.functions import lit, desc, col, size, array_contains, isnan, udf, hour,\\\n",
    "    array_min, array_max, countDistinct\n",
    "from pyspark.sql.types import *\n",
    "\n",
    "MAX_MEMORY = '15G'\n",
    "\n",
    "# Initialize a spark session\n",
    "conf = pyspark.SparkConf().setMaster('local[*]')\\\n",
    "            .set('spark.executor.heartbeatInterval', 10000)\\\n",
    "            .set('spark.network.timeout', 10000)\\\n",
    "            .set('spark.core.connection.ack.wait.timeout', '3600')\\\n",
    "            .set('spark.executor.memory', MAX_MEMORY)\\\n",
    "            .set('spark.driver.memory', MAX_MEMORY)\n",
    "\n",
    "\n",
    "def init_spark():\n",
    "    spark = SparkSession\\\n",
    "        .builder\\\n",
    "        .appName('EDA Pyspark')\\\n",
    "        .config(conf=conf)\\\n",
    "        .getOrCreate()\n",
    "    return spark\n",
    "\n",
    "spark = init_spark()\n",
    "df = spark.read.format('json').option('mode', 'DROPMALFORMED')\\\n",
    "            .load('endomondoHR.json')"
   ]
  },
  {
   "cell_type": "markdown",
   "metadata": {},
   "source": [
    "# Overview of the Dataset"
   ]
  },
  {
   "cell_type": "code",
   "execution_count": 22,
   "metadata": {},
   "outputs": [
    {
     "name": "stdout",
     "output_type": "stream",
     "text": [
      "+--------------------+------+--------------------+---------+--------------------+--------------------+--------------------+----------------+--------------------+--------------------+--------+\n",
      "|            altitude|gender|          heart_rate|       id|            latitude|           longitude|               speed|           sport|           timestamp|                 url|  userId|\n",
      "+--------------------+------+--------------------+---------+--------------------+--------------------+--------------------+----------------+--------------------+--------------------+--------+\n",
      "|[41.6, 40.6, 40.6...|  male|[100, 111, 120, 1...|396826535|[60.1733487658202...|[24.6497704088687...|[6.8652, 16.4736,...|            bike|[1408898746, 1408...|https://www.endom...|10921915|\n",
      "|[38.4, 39.0, 39.0...|  male|[100, 105, 111, 1...|392337038|[60.1732475962489...|[24.6498552337288...|[9.0792, 13.284, ...|            bike|[1408221682, 1408...|https://www.endom...|10921915|\n",
      "|[76.4, 73.2, 72.4...|  male|[99, 105, 113, 11...|389643739|[60.1732620131224...|[24.6499565709382...|[4.0464, 13.8204,...|            bike|[1407858459, 1407...|https://www.endom...|10921915|\n",
      "|[28.6, 29.4, 29.4...|  male|[99, 105, 113, 10...|386729739|[60.1732862368226...|[24.6498743444681...|[7.4988, 15.4008,...|            bike|[1407432042, 1407...|https://www.endom...|10921915|\n",
      "|[32.0, 32.0, 32.0...|  male|[110, 113, 114, 1...|383186560|[60.1732932776212...|[24.6497983206063...|                null|bike (transport)|[1406909434, 1406...|https://www.endom...|10921915|\n",
      "+--------------------+------+--------------------+---------+--------------------+--------------------+--------------------+----------------+--------------------+--------------------+--------+\n",
      "only showing top 5 rows\n",
      "\n"
     ]
    }
   ],
   "source": [
    "df.show(5)"
   ]
  },
  {
   "cell_type": "code",
   "execution_count": 23,
   "metadata": {},
   "outputs": [
    {
     "name": "stdout",
     "output_type": "stream",
     "text": [
      "root\n",
      " |-- altitude: array (nullable = true)\n",
      " |    |-- element: double (containsNull = true)\n",
      " |-- gender: string (nullable = true)\n",
      " |-- heart_rate: array (nullable = true)\n",
      " |    |-- element: long (containsNull = true)\n",
      " |-- id: long (nullable = true)\n",
      " |-- latitude: array (nullable = true)\n",
      " |    |-- element: double (containsNull = true)\n",
      " |-- longitude: array (nullable = true)\n",
      " |    |-- element: double (containsNull = true)\n",
      " |-- speed: array (nullable = true)\n",
      " |    |-- element: double (containsNull = true)\n",
      " |-- sport: string (nullable = true)\n",
      " |-- timestamp: array (nullable = true)\n",
      " |    |-- element: long (containsNull = true)\n",
      " |-- url: string (nullable = true)\n",
      " |-- userId: long (nullable = true)\n",
      "\n"
     ]
    }
   ],
   "source": [
    "df.printSchema()"
   ]
  },
  {
   "cell_type": "code",
   "execution_count": 24,
   "metadata": {},
   "outputs": [
    {
     "name": "stderr",
     "output_type": "stream",
     "text": [
      "[Stage 32:=====================================================>  (47 + 2) / 49]\r"
     ]
    },
    {
     "name": "stdout",
     "output_type": "stream",
     "text": [
      "+-------+-------+-------------------+--------+--------------------+------------------+\n",
      "|summary| gender|                 id|   sport|                 url|            userId|\n",
      "+-------+-------+-------------------+--------+--------------------+------------------+\n",
      "|  count| 253020|             253020|  253020|              253020|            253020|\n",
      "|   mean|   null|3.566244412926132E8|    null|                null| 4619648.939783417|\n",
      "| stddev|   null|1.574845634895318E8|    null|                null|3932877.7296880507|\n",
      "|    min| female|              99296|aerobics|https://www.endom...|                69|\n",
      "|    max|unknown|          674008008|    yoga|https://www.endom...|          15481421|\n",
      "+-------+-------+-------------------+--------+--------------------+------------------+\n",
      "\n"
     ]
    },
    {
     "name": "stderr",
     "output_type": "stream",
     "text": [
      "                                                                                \r"
     ]
    }
   ],
   "source": [
    "df.describe().show()"
   ]
  },
  {
   "cell_type": "markdown",
   "metadata": {},
   "source": [
    "# Detect missing values and abnormal zeroes"
   ]
  },
  {
   "cell_type": "code",
   "execution_count": 25,
   "metadata": {},
   "outputs": [
    {
     "name": "stderr",
     "output_type": "stream",
     "text": [
      "                                                                                \r"
     ]
    },
    {
     "data": {
      "text/html": [
       "<div>\n",
       "<style scoped>\n",
       "    .dataframe tbody tr th:only-of-type {\n",
       "        vertical-align: middle;\n",
       "    }\n",
       "\n",
       "    .dataframe tbody tr th {\n",
       "        vertical-align: top;\n",
       "    }\n",
       "\n",
       "    .dataframe thead th {\n",
       "        text-align: right;\n",
       "    }\n",
       "</style>\n",
       "<table border=\"1\" class=\"dataframe\">\n",
       "  <thead>\n",
       "    <tr style=\"text-align: right;\">\n",
       "      <th></th>\n",
       "      <th>altitude</th>\n",
       "      <th>gender</th>\n",
       "      <th>heart_rate</th>\n",
       "      <th>id</th>\n",
       "      <th>latitude</th>\n",
       "      <th>longitude</th>\n",
       "      <th>speed</th>\n",
       "      <th>sport</th>\n",
       "      <th>timestamp</th>\n",
       "      <th>url</th>\n",
       "      <th>userId</th>\n",
       "    </tr>\n",
       "  </thead>\n",
       "  <tbody>\n",
       "    <tr>\n",
       "      <th>0</th>\n",
       "      <td>40848</td>\n",
       "      <td>0</td>\n",
       "      <td>1280</td>\n",
       "      <td>0</td>\n",
       "      <td>113</td>\n",
       "      <td>113</td>\n",
       "      <td>7741</td>\n",
       "      <td>0</td>\n",
       "      <td>0</td>\n",
       "      <td>0</td>\n",
       "      <td>0</td>\n",
       "    </tr>\n",
       "  </tbody>\n",
       "</table>\n",
       "</div>"
      ],
      "text/plain": [
       "   altitude  gender  heart_rate  id  latitude  longitude  speed  sport  \\\n",
       "0     40848       0        1280   0       113        113   7741      0   \n",
       "\n",
       "   timestamp  url  userId  \n",
       "0          0    0       0  "
      ]
     },
     "execution_count": 25,
     "metadata": {},
     "output_type": "execute_result"
    }
   ],
   "source": [
    "string_cols = ['gender', 'sport', 'url']\n",
    "numeric_cols = ['id', 'userId']\n",
    "array_cols = ['altitude', 'heart_rate', 'latitude', 'longitude', 'speed', 'timestamp']\n",
    "\n",
    "missing_values = {}\n",
    "for index, column in enumerate(df.columns):\n",
    "    if column in string_cols:\n",
    "        # check string columns with none and null values\n",
    "        missing_count = df.filter(\n",
    "            col(column).eqNullSafe(None) | col(column).isNull()\n",
    "        ).count()\n",
    "        missing_values.update({column:missing_count})\n",
    "\n",
    "    if column in numeric_cols:\n",
    "        missing_count = df.where(\n",
    "            col(column).isin([0, None, np.nan])\n",
    "        ).count()\n",
    "        missing_values.update({column:missing_count})\n",
    "\n",
    "    if column in array_cols:\n",
    "        missing_count = df.filter(\n",
    "            array_contains(df[column], 0) | array_contains(df[column], np.nan)\n",
    "        ).count()\n",
    "        missing_values.update({column:missing_count})\n",
    "\n",
    "missing_df = pd.DataFrame.from_dict([missing_values])\n",
    "missing_df\n"
   ]
  },
  {
   "cell_type": "code",
   "execution_count": 26,
   "metadata": {},
   "outputs": [
    {
     "name": "stderr",
     "output_type": "stream",
     "text": [
      "                                                                                \r"
     ]
    },
    {
     "data": {
      "text/plain": [
       "253020"
      ]
     },
     "execution_count": 26,
     "metadata": {},
     "output_type": "execute_result"
    }
   ],
   "source": [
    "df.count()"
   ]
  },
  {
   "cell_type": "code",
   "execution_count": 30,
   "metadata": {},
   "outputs": [
    {
     "name": "stderr",
     "output_type": "stream",
     "text": [
      "[Stage 81:=====================================================>  (47 + 2) / 49]\r"
     ]
    },
    {
     "name": "stdout",
     "output_type": "stream",
     "text": [
      "\n",
      "Overall data set summary on users, workouts and number of records (pre-filtering):\n"
     ]
    },
    {
     "name": "stderr",
     "output_type": "stream",
     "text": [
      "                                                                                \r"
     ]
    },
    {
     "data": {
      "text/html": [
       "<div>\n",
       "<style scoped>\n",
       "    .dataframe tbody tr th:only-of-type {\n",
       "        vertical-align: middle;\n",
       "    }\n",
       "\n",
       "    .dataframe tbody tr th {\n",
       "        vertical-align: top;\n",
       "    }\n",
       "\n",
       "    .dataframe thead th {\n",
       "        text-align: right;\n",
       "    }\n",
       "</style>\n",
       "<table border=\"1\" class=\"dataframe\">\n",
       "  <thead>\n",
       "    <tr style=\"text-align: right;\">\n",
       "      <th></th>\n",
       "      <th>Users count</th>\n",
       "      <th>Activity types count</th>\n",
       "      <th>Workouts count</th>\n",
       "      <th>Total records count</th>\n",
       "    </tr>\n",
       "  </thead>\n",
       "  <tbody>\n",
       "    <tr>\n",
       "      <th>0</th>\n",
       "      <td>1,104</td>\n",
       "      <td>49</td>\n",
       "      <td>253,020</td>\n",
       "      <td>111,541,956</td>\n",
       "    </tr>\n",
       "  </tbody>\n",
       "</table>\n",
       "</div>"
      ],
      "text/plain": [
       "  Users count Activity types count Workouts count Total records count\n",
       "0       1,104                   49        253,020         111,541,956"
      ]
     },
     "execution_count": 30,
     "metadata": {},
     "output_type": "execute_result"
    }
   ],
   "source": [
    "# We create new column to count the number of timestamps recorded per row/workout, named as 'PerWorkoutRecordCount' column\n",
    "df = df.withColumn('PerWorkoutRecordCount', size(col('timestamp')))\n",
    "\n",
    "\n",
    "# This part is writen as a function to be used again later\n",
    "def user_activity_workout_summarize(df):\n",
    "    user_count = format(df.select('userId').distinct().count(), ',d')\n",
    "    workout_count = format(df.select('id').distinct().count(), ',d')\n",
    "    activity_count = str(df.select('sport').distinct().count())\n",
    "    sum_temp = df.agg(functions.sum('PerWorkoutRecordCount')).toPandas()\n",
    "    total_records_count = format(sum_temp['sum(PerWorkoutRecordCount)'][0],',d')\n",
    "    columns=['Users count', 'Activity types count','Workouts count', 'Total records count']\n",
    "    data = [[user_count], [activity_count], [workout_count], [total_records_count]]\n",
    "    sum_dict = {column: data[i] for i, column in enumerate(columns)}\n",
    "    sum_df = pd.DataFrame.from_dict(sum_dict)[columns]\n",
    "    gender_user_count = df.select('gender','userId').distinct().groupBy('gender').count().toPandas()\n",
    "    gender_activities_count = df.groupBy('gender').count().toPandas()\n",
    "    gender_user_activity_count = gender_user_count.join(\n",
    "        gender_activities_count.set_index('gender'), on='gender'\n",
    "        , how='inner', lsuffix='_gu'\n",
    "    )\n",
    "    gender_user_activity_count.columns = ['Gender', '# of users', 'Activities (workouts) count']\n",
    "    \n",
    "    return sum_df, gender_user_activity_count\n",
    "\n",
    "sum_dfs= user_activity_workout_summarize(df)\n",
    "print('\\nOverall data set summary on users, workouts and number of records (pre-filtering):')\n",
    "sum_dfs[0]\n"
   ]
  },
  {
   "cell_type": "code",
   "execution_count": 31,
   "metadata": {},
   "outputs": [
    {
     "name": "stdout",
     "output_type": "stream",
     "text": [
      "Number of workouts that have less than 50 records and statistic summary:\n"
     ]
    },
    {
     "name": "stderr",
     "output_type": "stream",
     "text": [
      "                                                                                \r"
     ]
    },
    {
     "data": {
      "text/html": [
       "<div>\n",
       "<style scoped>\n",
       "    .dataframe tbody tr th:only-of-type {\n",
       "        vertical-align: middle;\n",
       "    }\n",
       "\n",
       "    .dataframe tbody tr th {\n",
       "        vertical-align: top;\n",
       "    }\n",
       "\n",
       "    .dataframe thead th {\n",
       "        text-align: right;\n",
       "    }\n",
       "</style>\n",
       "<table border=\"1\" class=\"dataframe\">\n",
       "  <thead>\n",
       "    <tr style=\"text-align: right;\">\n",
       "      <th></th>\n",
       "      <th>count</th>\n",
       "      <th>mean</th>\n",
       "      <th>std</th>\n",
       "      <th>min</th>\n",
       "      <th>25%</th>\n",
       "      <th>50%</th>\n",
       "      <th>75%</th>\n",
       "      <th>max</th>\n",
       "    </tr>\n",
       "  </thead>\n",
       "  <tbody>\n",
       "    <tr>\n",
       "      <th>PerWorkoutRecordCount &lt;50</th>\n",
       "      <td>5541</td>\n",
       "      <td>23</td>\n",
       "      <td>14</td>\n",
       "      <td>1</td>\n",
       "      <td>11</td>\n",
       "      <td>22</td>\n",
       "      <td>36</td>\n",
       "      <td>49</td>\n",
       "    </tr>\n",
       "  </tbody>\n",
       "</table>\n",
       "</div>"
      ],
      "text/plain": [
       "                           count  mean  std  min  25%  50%  75%  max\n",
       "PerWorkoutRecordCount <50   5541    23   14    1   11   22   36   49"
      ]
     },
     "execution_count": 31,
     "metadata": {},
     "output_type": "execute_result"
    }
   ],
   "source": [
    "print('Number of workouts that have less than 50 records and statistic summary:')\n",
    "removed_df = df.select('PerWorkoutRecordCount').where(df.PerWorkoutRecordCount < 50) \\\n",
    "               .toPandas().describe().astype(int)\n",
    "removed_df.rename(columns = {'PerWorkoutRecordCount': 'PerWorkoutRecordCount <50'}, inplace=True)\n",
    "removed_df.T"
   ]
  },
  {
   "cell_type": "markdown",
   "metadata": {},
   "source": [
    "# Pyspark Lazy Evaluation\n",
    "Lazy evaluation enhances the power of apache spark by reducing the execution time of the RDD operations. It maintains the lineage graph to remember the operations on RDD. . We can simply remember that all processing in pyspark is abstraction, when we want to return the results, actually, we tell spark what is the eventual answer you're interested and figures out the best way to get there. As a result, it optmizes the performance and achives fault tolerance. <br>\n",
    "In order to see the result, we have to call Spark.collect()<br>\n",
    "Normally, we would use df.take(k) or df.limit(k). But when k becomes a alarge number, these 2 ways above take a long time to complete the process. Because this syntax above does not utilize the power of pyspark processing (lazy evaluation). In order to quickly process, we should use df.collect()[:k]"
   ]
  },
  {
   "cell_type": "code",
   "execution_count": 32,
   "metadata": {},
   "outputs": [
    {
     "name": "stderr",
     "output_type": "stream",
     "text": [
      "                                                                                \r"
     ]
    }
   ],
   "source": [
    "ranked_sport_users_df = df.select(df.sport, df.userId)\\\n",
    "                                .distinct()\\\n",
    "                                .groupBy(df.sport)\\\n",
    "                                .count()\\\n",
    "                                .orderBy('count', ascending=False)\n",
    "\n",
    "# Top 5 workout types\n",
    "highest_sport_users_df = ranked_sport_users_df.limit(5).toPandas()\n",
    "\n",
    "# Rename column count to users count\n",
    "highest_sport_users_df.rename(columns={'count': 'Users count'}, inplace=True)\n",
    "\n",
    "# calculate total users\n",
    "total_sports_users = ranked_sport_users_df.groupBy().sum().collect()[0][0]\n"
   ]
  },
  {
   "cell_type": "code",
   "execution_count": 33,
   "metadata": {},
   "outputs": [
    {
     "name": "stderr",
     "output_type": "stream",
     "text": [
      "                                                                                \r"
     ]
    },
    {
     "data": {
      "text/plain": [
       "[Row(sport='run', count=865),\n",
       " Row(sport='bike', count=794),\n",
       " Row(sport='mountain bike', count=336),\n",
       " Row(sport='bike (transport)', count=252),\n",
       " Row(sport='walk', count=209)]"
      ]
     },
     "execution_count": 33,
     "metadata": {},
     "output_type": "execute_result"
    }
   ],
   "source": [
    "ranked_sport_users_df.collect()[:5]"
   ]
  },
  {
   "cell_type": "markdown",
   "metadata": {},
   "source": [
    "# Exploratory Data Analysis"
   ]
  },
  {
   "cell_type": "code",
   "execution_count": null,
   "metadata": {},
   "outputs": [],
   "source": []
  }
 ],
 "metadata": {
  "kernelspec": {
   "display_name": "Python 3.10.4 ('pyspark')",
   "language": "python",
   "name": "python3"
  },
  "language_info": {
   "codemirror_mode": {
    "name": "ipython",
    "version": 3
   },
   "file_extension": ".py",
   "mimetype": "text/x-python",
   "name": "python",
   "nbconvert_exporter": "python",
   "pygments_lexer": "ipython3",
   "version": "3.10.4"
  },
  "orig_nbformat": 4,
  "vscode": {
   "interpreter": {
    "hash": "16a1e63d911eff1aab37ec58c6e1ea235f3cb3c12a1ea58834ac723c2586ab7c"
   }
  }
 },
 "nbformat": 4,
 "nbformat_minor": 2
}
